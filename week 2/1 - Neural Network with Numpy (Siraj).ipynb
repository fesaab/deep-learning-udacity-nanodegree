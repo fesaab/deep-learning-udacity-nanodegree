{
 "cells": [
  {
   "cell_type": "markdown",
   "metadata": {},
   "source": [
    "# Neural Network with Numpy"
   ]
  },
  {
   "cell_type": "markdown",
   "metadata": {},
   "source": [
    "This notebook contains the definition of a Neural Network class built only with Numpy"
   ]
  },
  {
   "cell_type": "code",
   "execution_count": 14,
   "metadata": {
    "collapsed": false,
    "deletable": true,
    "editable": true
   },
   "outputs": [],
   "source": [
    "from numpy import exp, array, random, dot"
   ]
  },
  {
   "cell_type": "code",
   "execution_count": 41,
   "metadata": {
    "collapsed": true
   },
   "outputs": [],
   "source": [
    "class NeuralNetwork():\n",
    "    def __init__(self):\n",
    "        \n",
    "        # seed the random number generator so everytime we get the same results\n",
    "        random.seed(1)\n",
    "        \n",
    "        # single neuron with 3 input and 1 output\n",
    "        # assign random inital weights\n",
    "        self.synaptic_weights = 2 * random.random((3, 1)) - 1\n",
    "        \n",
    "    # sigmoid function used to normalize a value between 0 and 1\n",
    "    def __sigmoid(self, x):\n",
    "        return 1 / (1 + exp(-x))\n",
    "    \n",
    "    # sigmoid derivative used on gradient descent\n",
    "    def __sigmoid_derivative(self, x):\n",
    "        return x * (1-x)\n",
    "    \n",
    "    # pass the inputs to the single neuron and predict the output\n",
    "    # multiply the inputs by the already calculated weights and apply sigmoid to it... thats the prediction\n",
    "    def predict(self, inputs):\n",
    "        return self.__sigmoid(dot(inputs, self.synaptic_weights))\n",
    "    \n",
    "    def train(self, training_set_inputs, training_set_outputs, number_of_training_iterations):\n",
    "        for iteration in xrange(number_of_training_iterations):\n",
    "            # pass the training set to the network\n",
    "            output = self.predict(training_set_inputs)\n",
    "            \n",
    "            #calculate the error\n",
    "            error = training_set_outputs - output\n",
    "            \n",
    "            # calculate the adjustment based on the error\n",
    "            error_slope = error * self.__sigmoid_derivative(output)\n",
    "            adjustment = dot(training_set_inputs.T, error_slope)\n",
    "            \n",
    "            self.synaptic_weights += adjustment"
   ]
  },
  {
   "cell_type": "markdown",
   "metadata": {},
   "source": [
    "## Testing the Neural Network..."
   ]
  },
  {
   "cell_type": "code",
   "execution_count": 45,
   "metadata": {
    "collapsed": false,
    "scrolled": true
   },
   "outputs": [
    {
     "name": "stdout",
     "output_type": "stream",
     "text": [
      "Random starting weights\n",
      "[[-0.16595599]\n",
      " [ 0.44064899]\n",
      " [-0.99977125]]\n"
     ]
    }
   ],
   "source": [
    "# initialize the nn\n",
    "neural_network = NeuralNetwork()\n",
    "print 'Random starting weights'\n",
    "print neural_network.synaptic_weights"
   ]
  },
  {
   "cell_type": "code",
   "execution_count": 46,
   "metadata": {
    "collapsed": false
   },
   "outputs": [
    {
     "name": "stdout",
     "output_type": "stream",
     "text": [
      "New weights after training\n",
      "[[ 9.67299303]\n",
      " [-0.2078435 ]\n",
      " [-4.62963669]]\n"
     ]
    }
   ],
   "source": [
    "# training sets\n",
    "training_set_inputs = array([[0,0,1], [1,1,1], [1,0,1], [0,1,1]])\n",
    "training_set_outputs = array([[0],[1],[1],[0]])\n",
    "training_steps = 10000\n",
    "\n",
    "# train the nn\n",
    "neural_network.train(training_set_inputs, training_set_outputs, training_steps)\n",
    "print 'New weights after training'\n",
    "print neural_network.synaptic_weights"
   ]
  },
  {
   "cell_type": "code",
   "execution_count": 47,
   "metadata": {
    "collapsed": false
   },
   "outputs": [
    {
     "name": "stdout",
     "output_type": "stream",
     "text": [
      "Predictions\n",
      "[[ 0.009664  ]\n",
      " [ 0.99211997]\n",
      " [ 0.99358931]\n",
      " [ 0.00786466]]\n"
     ]
    }
   ],
   "source": [
    "# predicting\n",
    "print 'Predictions'\n",
    "print neural_network.predict(training_set_inputs)"
   ]
  }
 ],
 "metadata": {
  "kernelspec": {
   "display_name": "Python 2",
   "language": "python",
   "name": "python2"
  },
  "language_info": {
   "codemirror_mode": {
    "name": "ipython",
    "version": 2
   },
   "file_extension": ".py",
   "mimetype": "text/x-python",
   "name": "python",
   "nbconvert_exporter": "python",
   "pygments_lexer": "ipython2",
   "version": "2.7.13"
  }
 },
 "nbformat": 4,
 "nbformat_minor": 2
}
